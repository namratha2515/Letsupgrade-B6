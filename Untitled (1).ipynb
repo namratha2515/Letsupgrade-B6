{
 "cells": [
  {
   "cell_type": "code",
   "execution_count": 2,
   "metadata": {},
   "outputs": [
    {
     "name": "stdout",
     "output_type": "stream",
     "text": [
      "1 --> 1\n",
      "2 --> 3\n",
      "3 --> 6\n",
      "4 --> 10\n",
      "5 --> 15\n",
      "6 --> 21\n",
      "7 --> 28\n",
      "8 --> 36\n",
      "9 --> 45\n",
      "10 --> 55\n",
      "sum of number is  55\n"
     ]
    }
   ],
   "source": [
    "sum1=0\n",
    "i=1\n",
    "while i!=11:\n",
    "    sum1=sum1+i\n",
    "    print(i,\"-->\",sum1)\n",
    "    i=i+1\n",
    "print(\"sum of number is \",sum1)"
   ]
  }
 ],
 "metadata": {
  "kernelspec": {
   "display_name": "Python 3",
   "language": "python",
   "name": "python3"
  },
  "language_info": {
   "codemirror_mode": {
    "name": "ipython",
    "version": 3
   },
   "file_extension": ".py",
   "mimetype": "text/x-python",
   "name": "python",
   "nbconvert_exporter": "python",
   "pygments_lexer": "ipython3",
   "version": "3.7.6"
  }
 },
 "nbformat": 4,
 "nbformat_minor": 4
}
